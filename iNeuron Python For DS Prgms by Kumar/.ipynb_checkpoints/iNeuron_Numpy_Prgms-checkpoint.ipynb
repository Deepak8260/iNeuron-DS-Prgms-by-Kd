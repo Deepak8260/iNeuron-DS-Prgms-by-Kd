{
 "cells": [
  {
   "cell_type": "code",
   "execution_count": 1,
   "metadata": {
    "id": "Bchk5YPytlDH"
   },
   "outputs": [],
   "source": [
    "import numpy as np"
   ]
  },
  {
   "cell_type": "code",
   "execution_count": 2,
   "metadata": {
    "colab": {
     "base_uri": "https://localhost:8080/"
    },
    "id": "mqFGti-ft2Rz",
    "outputId": "cd2cb179-eb20-4ee6-d62e-2f91dc100440"
   },
   "outputs": [
    {
     "name": "stdout",
     "output_type": "stream",
     "text": [
      "[1 2 3 4 5]\n"
     ]
    }
   ],
   "source": [
    "a=np.array([1,2,3,4,5])\n",
    "print(a)"
   ]
  },
  {
   "cell_type": "code",
   "execution_count": 3,
   "metadata": {
    "colab": {
     "base_uri": "https://localhost:8080/"
    },
    "id": "o-E6vMKVuApi",
    "outputId": "6e286876-065f-41c1-be33-40720587e767"
   },
   "outputs": [
    {
     "name": "stdout",
     "output_type": "stream",
     "text": [
      "[1.  2.  3.  4.  5.  6.8]\n"
     ]
    },
    {
     "data": {
      "text/plain": [
       "dtype('float64')"
      ]
     },
     "execution_count": 3,
     "metadata": {},
     "output_type": "execute_result"
    }
   ],
   "source": [
    "a=np.array([1,2,3,4,5,6.8])# returns float type as 1 value is float. so it upcasting\n",
    "print(a)\n",
    "a.dtype"
   ]
  },
  {
   "cell_type": "code",
   "execution_count": 4,
   "metadata": {
    "colab": {
     "base_uri": "https://localhost:8080/"
    },
    "id": "r04j1scFuKP0",
    "outputId": "497a1d31-d6a0-47d6-e369-c9adcb65f823"
   },
   "outputs": [
    {
     "name": "stdout",
     "output_type": "stream",
     "text": [
      "['1' '2' '3' '4' '5' 'Miku']\n"
     ]
    },
    {
     "data": {
      "text/plain": [
       "dtype('<U21')"
      ]
     },
     "execution_count": 4,
     "metadata": {},
     "output_type": "execute_result"
    }
   ],
   "source": [
    "a=np.array([1,2,3,4,5,'Miku'])# returns string type as 1 value is strings\n",
    "print(a)\n",
    "a.dtype"
   ]
  },
  {
   "cell_type": "code",
   "execution_count": 5,
   "metadata": {
    "colab": {
     "base_uri": "https://localhost:8080/"
    },
    "id": "t7VB3EDkuS3N",
    "outputId": "c55ffa67-78dc-4231-cd86-31e5efad0648"
   },
   "outputs": [
    {
     "name": "stdout",
     "output_type": "stream",
     "text": [
      "[[1 2]\n",
      " [3 4]]\n",
      "int64\n",
      "2\n"
     ]
    }
   ],
   "source": [
    "a=np.array([[1,2],[3,4]])\n",
    "print(a)\n",
    "print(a.dtype)\n",
    "print(a.ndim)"
   ]
  },
  {
   "cell_type": "code",
   "execution_count": 6,
   "metadata": {
    "colab": {
     "base_uri": "https://localhost:8080/"
    },
    "id": "uLDJReEjwRKq",
    "outputId": "5177444d-12f9-4c04-ebab-be8c36adc3c6"
   },
   "outputs": [
    {
     "name": "stdout",
     "output_type": "stream",
     "text": [
      "[[[ 1  2  3]\n",
      "  [ 4  5  6]]\n",
      "\n",
      " [[11 22 33]\n",
      "  [44 55 77]]]\n",
      "int64\n",
      "3\n",
      "12\n",
      "(2, 2, 3)\n"
     ]
    }
   ],
   "source": [
    "a=np.array([[[1,2,3],[4,5,6]],[[11,22,33],[44,55,77]]])\n",
    "print(a)\n",
    "print(a.dtype)\n",
    "print(a.ndim)\n",
    "print(a.size)\n",
    "print(a.shape)"
   ]
  },
  {
   "cell_type": "code",
   "execution_count": 7,
   "metadata": {
    "colab": {
     "base_uri": "https://localhost:8080/"
    },
    "id": "q3mg_p3-wgDc",
    "outputId": "8cb4ff75-2234-4fa3-8364-0f497b0af238"
   },
   "outputs": [
    {
     "name": "stdout",
     "output_type": "stream",
     "text": [
      "[list([1, 2]) list([2, 3, 4])]\n"
     ]
    }
   ],
   "source": [
    "a=np.array([[1,2],[2,3,4]],dtype=object)# here the size of elements is not same, so it converted it into a list\n",
    "print(a)"
   ]
  },
  {
   "cell_type": "code",
   "execution_count": 8,
   "metadata": {
    "colab": {
     "base_uri": "https://localhost:8080/"
    },
    "id": "S2-lw2YgxU-N",
    "outputId": "b45b6551-2521-4ae3-97dc-2ba2e4821f4b"
   },
   "outputs": [
    {
     "name": "stdout",
     "output_type": "stream",
     "text": [
      "[[[[[3 4 5]]]]]\n"
     ]
    },
    {
     "data": {
      "text/plain": [
       "5"
      ]
     },
     "execution_count": 8,
     "metadata": {},
     "output_type": "execute_result"
    }
   ],
   "source": [
    "a=np.array([3,4,5],ndmin=5)# ndmin means minimum number of dimension\n",
    "print(a)\n",
    "a.ndim # ndim means number of dimension"
   ]
  },
  {
   "cell_type": "code",
   "execution_count": 9,
   "metadata": {
    "colab": {
     "base_uri": "https://localhost:8080/"
    },
    "id": "dX7jpbWK0DVZ",
    "outputId": "e4726ced-0d69-423b-9ba8-58f0c43fa4f0"
   },
   "outputs": [
    {
     "name": "stdout",
     "output_type": "stream",
     "text": [
      "int64\n",
      "2\n"
     ]
    },
    {
     "data": {
      "text/plain": [
       "array([[1, 2],\n",
       "       [4, 5],\n",
       "       [7, 8]])"
      ]
     },
     "execution_count": 9,
     "metadata": {},
     "output_type": "execute_result"
    }
   ],
   "source": [
    "a=np.array(((1,2),(4,5),[7,8])) #we can even store data inside array in the from of tuple and list\n",
    "print(a.dtype)\n",
    "print(a.ndim)\n",
    "a"
   ]
  },
  {
   "cell_type": "code",
   "execution_count": 10,
   "metadata": {
    "colab": {
     "base_uri": "https://localhost:8080/"
    },
    "id": "bk8LHlYM28GQ",
    "outputId": "bbee2ec4-505a-4a91-a162-a9caf87e3c5d"
   },
   "outputs": [
    {
     "data": {
      "text/plain": [
       "array([(1, 2), (4, 5)], dtype=[('a', '<i2'), ('b', '<i8')])"
      ]
     },
     "execution_count": 10,
     "metadata": {},
     "output_type": "execute_result"
    }
   ],
   "source": [
    "a=np.array([(1,2),(4,5)],dtype=[('a','<i2'), ('b','<i8')]) #doubt structured array\n",
    "a"
   ]
  },
  {
   "cell_type": "code",
   "execution_count": 11,
   "metadata": {
    "colab": {
     "base_uri": "https://localhost:8080/"
    },
    "id": "yR8-d0tI42OT",
    "outputId": "2b7d2554-baf1-41a9-ef79-91a9c10f7ca5"
   },
   "outputs": [
    {
     "data": {
      "text/plain": [
       "array([[(1, 1), (2, 2)],\n",
       "       [(4, 4), (5, 5)]], dtype=[('a', '<i2'), ('b', '<i8')])"
      ]
     },
     "execution_count": 11,
     "metadata": {},
     "output_type": "execute_result"
    }
   ],
   "source": [
    "a=np.array([[1,2],[4,5]],dtype=[('a','<i2'), ('b','<i8')]) #doubt structured array\n",
    "a"
   ]
  },
  {
   "cell_type": "code",
   "execution_count": 13,
   "metadata": {
    "colab": {
     "base_uri": "https://localhost:8080/"
    },
    "id": "_RcV1D2D87pG",
    "outputId": "65592535-7dbb-4849-976d-856c02bc5b8f"
   },
   "outputs": [
    {
     "name": "stdout",
     "output_type": "stream",
     "text": [
      "[[1 2 3]\n",
      " [3 4 5]]\n",
      "int64\n"
     ]
    },
    {
     "data": {
      "text/plain": [
       "matrix([[1, 2, 3],\n",
       "        [3, 4, 5]])"
      ]
     },
     "execution_count": 13,
     "metadata": {},
     "output_type": "execute_result"
    }
   ],
   "source": [
    "array=np.array([[1,2,3],[3,4,5]])\n",
    "#matrix=np.mat(array) #np.mat() has been removed in NumPy 2.0\n",
    "matrix=np.asmatrix(array)\n",
    "print(array)\n",
    "print(array.dtype)\n",
    "matrix"
   ]
  },
  {
   "cell_type": "code",
   "execution_count": 14,
   "metadata": {
    "colab": {
     "base_uri": "https://localhost:8080/"
    },
    "id": "BAu8utXM-VWZ",
    "outputId": "fe137869-c552-4a8d-8fbd-7ed04702d61e"
   },
   "outputs": [
    {
     "name": "stdout",
     "output_type": "stream",
     "text": [
      "Output using array()\n",
      "[1 2 3 4 5 6]\n",
      "\n",
      "Output using asarray()\n",
      "[1 2 3 4 5 6]\n",
      "\n",
      "output using asanyarray()\n",
      "[1 2 3 4 5 6]\n"
     ]
    }
   ],
   "source": [
    "#converting a list into an array using diffrent ways\n",
    "l=[1,2,3,4,5,6]\n",
    "\n",
    "a=np.array(l)\n",
    "b=np.asarray(l)\n",
    "c=np.asanyarray(l)\n",
    "\n",
    "print(\"Output using array()\")\n",
    "print(a)\n",
    "print()\n",
    "\n",
    "print(\"Output using asarray()\")\n",
    "print(b)\n",
    "print()\n",
    "\n",
    "print(\"output using asanyarray()\")\n",
    "print(c)\n"
   ]
  },
  {
   "cell_type": "code",
   "execution_count": 16,
   "metadata": {
    "colab": {
     "base_uri": "https://localhost:8080/"
    },
    "id": "hvtHDV8S_l82",
    "outputId": "3486d3cc-f2e7-45a9-9a5f-43ea1a6f6a32"
   },
   "outputs": [
    {
     "name": "stdout",
     "output_type": "stream",
     "text": [
      "[[1 2 3 4 5 6]]\n"
     ]
    },
    {
     "data": {
      "text/plain": [
       "matrix([[1, 2, 3, 4, 5, 6]])"
      ]
     },
     "execution_count": 16,
     "metadata": {},
     "output_type": "execute_result"
    }
   ],
   "source": [
    "l=[1,2,3,4,5,6]\n",
    "#matrix=np.mat(l) #np.mat() has been removed in NumPy 2.0\n",
    "matrix=np.asmatrix(l)\n",
    "print(matrix)\n",
    "\n",
    "np.asanyarray(matrix)#  asanyarray() will not convert any form of array into an array. As matrix is also a subset of array, so it also doesnt convert the same\n"
   ]
  },
  {
   "cell_type": "code",
   "execution_count": 17,
   "metadata": {
    "colab": {
     "base_uri": "https://localhost:8080/"
    },
    "id": "6OmZSDE3AUtt",
    "outputId": "1da00fb8-fde2-43e1-82f6-2fe2efacd3ba"
   },
   "outputs": [
    {
     "data": {
      "text/plain": [
       "array([[1, 2, 3, 4, 5, 6]])"
      ]
     },
     "execution_count": 17,
     "metadata": {},
     "output_type": "execute_result"
    }
   ],
   "source": [
    "np.asarray(matrix) # but in this case, asarray canj convert any form of an array"
   ]
  },
  {
   "cell_type": "code",
   "execution_count": 18,
   "metadata": {
    "colab": {
     "base_uri": "https://localhost:8080/"
    },
    "id": "ja_frbP-Azd4",
    "outputId": "db0dc47e-8385-4995-af17-ccb0b4f6d95a"
   },
   "outputs": [
    {
     "name": "stdout",
     "output_type": "stream",
     "text": [
      "Whether matrix is a subclass of array or not: True\n",
      "Whether array is a subclass of matrix or not: False\n"
     ]
    }
   ],
   "source": [
    "#now lets check whether matrix is a subclass of array or not\n",
    "a=issubclass( np.matrix,np.ndarray)\n",
    "b=issubclass( np.ndarray,np.matrix)\n",
    "print(\"Whether matrix is a subclass of array or not:\",a)\n",
    "print(\"Whether array is a subclass of matrix or not:\",b)"
   ]
  },
  {
   "cell_type": "code",
   "execution_count": 19,
   "metadata": {
    "colab": {
     "base_uri": "https://localhost:8080/"
    },
    "id": "HVCYKclyCeYk",
    "outputId": "15ea6584-ec8b-4bd1-d4f5-0aebd5ee51cb"
   },
   "outputs": [
    {
     "name": "stdout",
     "output_type": "stream",
     "text": [
      "[1 2 3 4 5]\n",
      "[1 2 3 4 5]\n",
      "Address of a is: 1834178837648\n",
      "Address of r is: 1834178837648\n"
     ]
    }
   ],
   "source": [
    "a=np.array([1,2,3,4,5])\n",
    "r=a\n",
    "print(a)\n",
    "print(r)\n",
    "print(\"Address of a is:\",id(a))\n",
    "print(\"Address of r is:\",id(r))"
   ]
  },
  {
   "cell_type": "code",
   "execution_count": 20,
   "metadata": {
    "colab": {
     "base_uri": "https://localhost:8080/"
    },
    "id": "i7CzxY88CuSq",
    "outputId": "15d449cd-a807-4c8a-b291-b067a32c7f09"
   },
   "outputs": [
    {
     "name": "stdout",
     "output_type": "stream",
     "text": [
      "[1 2 3 4 5]\n",
      "Address of b is: 1834186427248\n"
     ]
    }
   ],
   "source": [
    "b=np.copy(a)\n",
    "print(b)\n",
    "print(\"Address of b is:\",id(b))"
   ]
  },
  {
   "cell_type": "code",
   "execution_count": 21,
   "metadata": {
    "colab": {
     "base_uri": "https://localhost:8080/"
    },
    "id": "5PqMc9cLDCku",
    "outputId": "525d564a-e996-44a2-d34c-8499bd70ca48"
   },
   "outputs": [
    {
     "name": "stdout",
     "output_type": "stream",
     "text": [
      "a= [1 2 9 4 5]\n",
      "r= [1 2 9 4 5]\n",
      "b= [1 2 3 4 5]\n",
      "\n",
      "Address of a is: 1834178837648\n",
      "Address of r is: 1834178837648\n",
      "Address of b is: 1834186427248\n"
     ]
    }
   ],
   "source": [
    "a[2]=9\n",
    "print(\"a=\",a)\n",
    "print(\"r=\",r)# it is a swallow copy as a and r is pointing to same object\n",
    "print(\"b=\",b)# it is a deep copy as a and b is pointing to different object\n",
    "print()\n",
    "print(\"Address of a is:\",id(a))\n",
    "print(\"Address of r is:\",id(r))\n",
    "print(\"Address of b is:\",id(b))"
   ]
  },
  {
   "cell_type": "code",
   "execution_count": 22,
   "metadata": {
    "colab": {
     "base_uri": "https://localhost:8080/"
    },
    "id": "3yj8XC32Fd1j",
    "outputId": "ae3acc58-c0f5-4cad-e24a-919a0f4f54c9"
   },
   "outputs": [
    {
     "data": {
      "text/plain": [
       "array([[ True, False, False, False],\n",
       "       [False,  True, False, False],\n",
       "       [False, False,  True, False],\n",
       "       [False, False, False,  True]])"
      ]
     },
     "execution_count": 22,
     "metadata": {},
     "output_type": "execute_result"
    }
   ],
   "source": [
    "np.fromfunction(lambda i,j : i==j, (4,4))"
   ]
  },
  {
   "cell_type": "code",
   "execution_count": 23,
   "metadata": {
    "colab": {
     "base_uri": "https://localhost:8080/"
    },
    "id": "p23Gls7KGGdh",
    "outputId": "bedbc339-2f4e-4645-db5f-ed9024ce1915"
   },
   "outputs": [
    {
     "data": {
      "text/plain": [
       "array([[ 0,  1,  2,  3,  4,  5,  6],\n",
       "       [ 1,  2,  3,  4,  5,  6,  7],\n",
       "       [ 2,  3,  4,  5,  6,  7,  8],\n",
       "       [ 3,  4,  5,  6,  7,  8,  9],\n",
       "       [ 4,  5,  6,  7,  8,  9, 10]])"
      ]
     },
     "execution_count": 23,
     "metadata": {},
     "output_type": "execute_result"
    }
   ],
   "source": [
    "np.fromfunction(lambda i,j : i+j, (5,7),dtype=int)"
   ]
  },
  {
   "cell_type": "code",
   "execution_count": 24,
   "metadata": {
    "colab": {
     "base_uri": "https://localhost:8080/"
    },
    "id": "bcwvgUbtGj-0",
    "outputId": "2510d890-d259-4253-c89a-554b5d395b04"
   },
   "outputs": [
    {
     "name": "stderr",
     "output_type": "stream",
     "text": [
      "C:\\Users\\ASUS\\AppData\\Local\\Temp\\ipykernel_7052\\362910262.py:1: RuntimeWarning: divide by zero encountered in divide\n",
      "  np.fromfunction(lambda i,j : i/j, (2,2))\n",
      "C:\\Users\\ASUS\\AppData\\Local\\Temp\\ipykernel_7052\\362910262.py:1: RuntimeWarning: invalid value encountered in divide\n",
      "  np.fromfunction(lambda i,j : i/j, (2,2))\n"
     ]
    },
    {
     "data": {
      "text/plain": [
       "array([[nan,  0.],\n",
       "       [inf,  1.]])"
      ]
     },
     "execution_count": 24,
     "metadata": {},
     "output_type": "execute_result"
    }
   ],
   "source": [
    "np.fromfunction(lambda i,j : i/j, (2,2))"
   ]
  },
  {
   "cell_type": "code",
   "execution_count": 25,
   "metadata": {
    "colab": {
     "base_uri": "https://localhost:8080/"
    },
    "id": "SQaoTUInG0Sg",
    "outputId": "7459a1fa-03b4-4451-a583-6d9c69f4e1eb"
   },
   "outputs": [
    {
     "data": {
      "text/plain": [
       "array([3, 4, 4, 5, 6, 7])"
      ]
     },
     "execution_count": 25,
     "metadata": {},
     "output_type": "execute_result"
    }
   ],
   "source": [
    "np.fromstring('3,4,4,5,6,7',sep=',',dtype=int)"
   ]
  },
  {
   "cell_type": "code",
   "execution_count": 26,
   "metadata": {
    "colab": {
     "base_uri": "https://localhost:8080/"
    },
    "id": "PlSlA7eQLO0I",
    "outputId": "59a6ef87-af47-4a96-e2e7-974712a55e72"
   },
   "outputs": [
    {
     "data": {
      "text/plain": [
       "array([[[0., 0.],\n",
       "        [0., 0.]],\n",
       "\n",
       "       [[0., 0.],\n",
       "        [0., 0.]],\n",
       "\n",
       "       [[0., 0.],\n",
       "        [0., 0.]],\n",
       "\n",
       "       [[0., 0.],\n",
       "        [0., 0.]],\n",
       "\n",
       "       [[0., 0.],\n",
       "        [0., 0.]]])"
      ]
     },
     "execution_count": 26,
     "metadata": {},
     "output_type": "execute_result"
    }
   ],
   "source": [
    "a=np.zeros((5,2,2))\n",
    "a"
   ]
  },
  {
   "cell_type": "code",
   "execution_count": 27,
   "metadata": {
    "colab": {
     "base_uri": "https://localhost:8080/"
    },
    "id": "Q3WoXo8rgru-",
    "outputId": "52d0535d-9c24-414e-ea28-1fd72719754a"
   },
   "outputs": [
    {
     "data": {
      "text/plain": [
       "array([1, 1, 1, 1, 1])"
      ]
     },
     "execution_count": 27,
     "metadata": {},
     "output_type": "execute_result"
    }
   ],
   "source": [
    "np.ones(5,dtype=int)"
   ]
  },
  {
   "cell_type": "code",
   "execution_count": 28,
   "metadata": {
    "colab": {
     "base_uri": "https://localhost:8080/"
    },
    "id": "1FXAuLVof_ZP",
    "outputId": "bbee3414-80af-4b7f-862b-4a38b49928e7"
   },
   "outputs": [
    {
     "data": {
      "text/plain": [
       "array([0.0e+000, 4.9e-324, 9.9e-324, 1.5e-323, 2.0e-323, 2.5e-323,\n",
       "       3.0e-323])"
      ]
     },
     "execution_count": 28,
     "metadata": {},
     "output_type": "execute_result"
    }
   ],
   "source": [
    "np.empty(7)"
   ]
  },
  {
   "cell_type": "code",
   "execution_count": 29,
   "metadata": {
    "colab": {
     "base_uri": "https://localhost:8080/"
    },
    "id": "C24Jqj3_gG3K",
    "outputId": "927ceb45-00ba-4c5d-d9a6-207f608313d4"
   },
   "outputs": [
    {
     "data": {
      "text/plain": [
       "array([[4.94e-324, 9.88e-324, 1.48e-323, 1.98e-323],\n",
       "       [2.47e-323, 2.96e-323, 5.43e-323, 1.09e-322],\n",
       "       [1.63e-322, 2.17e-322, 2.72e-322, 3.80e-322]])"
      ]
     },
     "execution_count": 29,
     "metadata": {},
     "output_type": "execute_result"
    }
   ],
   "source": [
    "np.empty((3,4))"
   ]
  },
  {
   "cell_type": "code",
   "execution_count": 30,
   "metadata": {
    "colab": {
     "base_uri": "https://localhost:8080/"
    },
    "id": "8oFuV7dlgRI1",
    "outputId": "047da872-a010-475e-8f2b-292d736a59f5"
   },
   "outputs": [
    {
     "data": {
      "text/plain": [
       "array([3, 3, 3, 3, 3])"
      ]
     },
     "execution_count": 30,
     "metadata": {},
     "output_type": "execute_result"
    }
   ],
   "source": [
    "np.full(5,3)# not taught by sudhanshu sir.He just said that like zeros() generate 0 and ones() generates 1, we cant do it for other numbers"
   ]
  },
  {
   "cell_type": "code",
   "execution_count": 31,
   "metadata": {
    "colab": {
     "base_uri": "https://localhost:8080/"
    },
    "id": "geFBHIADg8nA",
    "outputId": "5f410c78-4b99-486e-9b84-90754fe47a44"
   },
   "outputs": [
    {
     "data": {
      "text/plain": [
       "array([[5, 5, 5, 5],\n",
       "       [5, 5, 5, 5],\n",
       "       [5, 5, 5, 5],\n",
       "       [5, 5, 5, 5],\n",
       "       [5, 5, 5, 5]])"
      ]
     },
     "execution_count": 31,
     "metadata": {},
     "output_type": "execute_result"
    }
   ],
   "source": [
    "np.full((5,4),5)"
   ]
  },
  {
   "cell_type": "code",
   "execution_count": 32,
   "metadata": {
    "colab": {
     "base_uri": "https://localhost:8080/"
    },
    "id": "Dft2cst-hVfH",
    "outputId": "9a39ca03-9348-4fe9-8dae-23c8d4340020"
   },
   "outputs": [
    {
     "data": {
      "text/plain": [
       "array([[1., 0., 0., 0., 0.],\n",
       "       [0., 1., 0., 0., 0.],\n",
       "       [0., 0., 1., 0., 0.],\n",
       "       [0., 0., 0., 1., 0.],\n",
       "       [0., 0., 0., 0., 1.],\n",
       "       [0., 0., 0., 0., 0.]])"
      ]
     },
     "execution_count": 32,
     "metadata": {},
     "output_type": "execute_result"
    }
   ],
   "source": [
    "np.eye((6),5)"
   ]
  },
  {
   "cell_type": "code",
   "execution_count": 33,
   "metadata": {
    "colab": {
     "base_uri": "https://localhost:8080/"
    },
    "id": "3BQxvKZkiFkm",
    "outputId": "731dc435-f915-41ba-d163-c98667af324a"
   },
   "outputs": [
    {
     "data": {
      "text/plain": [
       "array([[1, 0],\n",
       "       [0, 1]])"
      ]
     },
     "execution_count": 33,
     "metadata": {},
     "output_type": "execute_result"
    }
   ],
   "source": [
    "np.eye(2,dtype=int)"
   ]
  },
  {
   "cell_type": "code",
   "execution_count": 34,
   "metadata": {
    "colab": {
     "base_uri": "https://localhost:8080/"
    },
    "id": "LuxSsqJTiM97",
    "outputId": "531c0b9d-04e0-4235-db67-f708a5e31d04"
   },
   "outputs": [
    {
     "data": {
      "text/plain": [
       "array([[1., 0.],\n",
       "       [0., 1.]])"
      ]
     },
     "execution_count": 34,
     "metadata": {},
     "output_type": "execute_result"
    }
   ],
   "source": [
    "np.identity(2)"
   ]
  },
  {
   "cell_type": "code",
   "execution_count": 35,
   "metadata": {
    "colab": {
     "base_uri": "https://localhost:8080/"
    },
    "id": "95dBdf2QijmA",
    "outputId": "a9636e7b-e3fd-4ff2-9e7c-bf78928a918a"
   },
   "outputs": [
    {
     "data": {
      "text/plain": [
       "array([0., 3., 6., 9.])"
      ]
     },
     "execution_count": 35,
     "metadata": {},
     "output_type": "execute_result"
    }
   ],
   "source": [
    "np.linspace(0,9,4)"
   ]
  },
  {
   "cell_type": "code",
   "execution_count": 36,
   "metadata": {
    "colab": {
     "base_uri": "https://localhost:8080/"
    },
    "id": "rdiOWwmnjLPF",
    "outputId": "7809eda6-9248-46c1-b92c-405d8692afe0"
   },
   "outputs": [
    {
     "data": {
      "text/plain": [
       "array([0.  , 2.25, 4.5 , 6.75])"
      ]
     },
     "execution_count": 36,
     "metadata": {},
     "output_type": "execute_result"
    }
   ],
   "source": [
    "np.linspace(0,9,4,endpoint=False)# same as above but the endpoint(9) is not included"
   ]
  },
  {
   "cell_type": "code",
   "execution_count": 37,
   "metadata": {
    "colab": {
     "base_uri": "https://localhost:8080/"
    },
    "id": "u1GhxvrTjo-c",
    "outputId": "94d66b55-6d33-4693-9242-68c24fa91947"
   },
   "outputs": [
    {
     "data": {
      "text/plain": [
       "array([[1.        , 1.02040816, 1.04081633, 1.06122449, 1.08163265,\n",
       "        1.10204082, 1.12244898, 1.14285714, 1.16326531, 1.18367347,\n",
       "        1.20408163, 1.2244898 , 1.24489796, 1.26530612, 1.28571429,\n",
       "        1.30612245, 1.32653061, 1.34693878, 1.36734694, 1.3877551 ,\n",
       "        1.40816327, 1.42857143, 1.44897959, 1.46938776, 1.48979592,\n",
       "        1.51020408, 1.53061224, 1.55102041, 1.57142857, 1.59183673,\n",
       "        1.6122449 , 1.63265306, 1.65306122, 1.67346939, 1.69387755,\n",
       "        1.71428571, 1.73469388, 1.75510204, 1.7755102 , 1.79591837,\n",
       "        1.81632653, 1.83673469, 1.85714286, 1.87755102, 1.89795918,\n",
       "        1.91836735, 1.93877551, 1.95918367, 1.97959184, 2.        ],\n",
       "       [4.        , 3.95918367, 3.91836735, 3.87755102, 3.83673469,\n",
       "        3.79591837, 3.75510204, 3.71428571, 3.67346939, 3.63265306,\n",
       "        3.59183673, 3.55102041, 3.51020408, 3.46938776, 3.42857143,\n",
       "        3.3877551 , 3.34693878, 3.30612245, 3.26530612, 3.2244898 ,\n",
       "        3.18367347, 3.14285714, 3.10204082, 3.06122449, 3.02040816,\n",
       "        2.97959184, 2.93877551, 2.89795918, 2.85714286, 2.81632653,\n",
       "        2.7755102 , 2.73469388, 2.69387755, 2.65306122, 2.6122449 ,\n",
       "        2.57142857, 2.53061224, 2.48979592, 2.44897959, 2.40816327,\n",
       "        2.36734694, 2.32653061, 2.28571429, 2.24489796, 2.20408163,\n",
       "        2.16326531, 2.12244898, 2.08163265, 2.04081633, 2.        ]])"
      ]
     },
     "execution_count": 37,
     "metadata": {},
     "output_type": "execute_result"
    }
   ],
   "source": [
    "np.linspace((1,4),2,axis=1)"
   ]
  },
  {
   "cell_type": "code",
   "execution_count": 38,
   "metadata": {
    "colab": {
     "base_uri": "https://localhost:8080/"
    },
    "id": "S4-Zw-X3kWpX",
    "outputId": "b32ac6f8-d0a8-4a80-e55d-0e8467b21f39"
   },
   "outputs": [
    {
     "data": {
      "text/plain": [
       "array([ 100,  215,  464, 1000])"
      ]
     },
     "execution_count": 38,
     "metadata": {},
     "output_type": "execute_result"
    }
   ],
   "source": [
    "np.logspace(2,3,4,dtype=int) #return numbers evenly spaced in a log scale."
   ]
  },
  {
   "cell_type": "code",
   "execution_count": 39,
   "metadata": {
    "colab": {
     "base_uri": "https://localhost:8080/"
    },
    "id": "w8TEVPe7k0zJ",
    "outputId": "87aff7a0-3021-4851-9545-85fd108feb78"
   },
   "outputs": [
    {
     "name": "stdout",
     "output_type": "stream",
     "text": [
      "[ 0  1  2  3  4  5  6  7  8  9 10 11 12 13 14 15 16 17 18 19]\n",
      "[[[ 0]\n",
      "  [ 1]]\n",
      "\n",
      " [[ 2]\n",
      "  [ 3]]\n",
      "\n",
      " [[ 4]\n",
      "  [ 5]]\n",
      "\n",
      " [[ 6]\n",
      "  [ 7]]\n",
      "\n",
      " [[ 8]\n",
      "  [ 9]]\n",
      "\n",
      " [[10]\n",
      "  [11]]\n",
      "\n",
      " [[12]\n",
      "  [13]]\n",
      "\n",
      " [[14]\n",
      "  [15]]\n",
      "\n",
      " [[16]\n",
      "  [17]]\n",
      "\n",
      " [[18]\n",
      "  [19]]]\n"
     ]
    }
   ],
   "source": [
    "l=np.arange(20)\n",
    "print(l)\n",
    "print(l.reshape(10,2,1))# 10 rows with each rows having 2 rows and 1 column\n"
   ]
  },
  {
   "cell_type": "code",
   "execution_count": 40,
   "metadata": {
    "colab": {
     "base_uri": "https://localhost:8080/"
    },
    "id": "GKsxHB3osdKy",
    "outputId": "12d6b493-7a45-4663-f789-482d8683e918"
   },
   "outputs": [
    {
     "data": {
      "text/plain": [
       "array([0.62410474, 0.46651527, 0.15869818, 0.05992566, 0.728337  ])"
      ]
     },
     "execution_count": 40,
     "metadata": {},
     "output_type": "execute_result"
    }
   ],
   "source": [
    "np.random.rand(5)#generates set of 5 random data of gaussian distribution. It gives random samples from uniform distribution. range is between (0,1)"
   ]
  },
  {
   "cell_type": "code",
   "execution_count": 41,
   "metadata": {
    "colab": {
     "base_uri": "https://localhost:8080/"
    },
    "id": "dgImGPMgsnEP",
    "outputId": "5aaaf418-9ea6-4e06-b06c-6bec920d32aa"
   },
   "outputs": [
    {
     "data": {
      "text/plain": [
       "array([-1.08335826,  0.31971262,  1.42285653, -0.07003917, -0.9809374 ])"
      ]
     },
     "execution_count": 41,
     "metadata": {},
     "output_type": "execute_result"
    }
   ],
   "source": [
    "np.random.randn(5)# return set of 5 samples from Standard Normal Distribution"
   ]
  },
  {
   "cell_type": "code",
   "execution_count": 42,
   "metadata": {
    "colab": {
     "base_uri": "https://localhost:8080/"
    },
    "id": "ILECOFDLtfKd",
    "outputId": "9af1e0bd-53ac-4c7d-bb46-334be23b709f"
   },
   "outputs": [
    {
     "name": "stdout",
     "output_type": "stream",
     "text": [
      "-0.6460112887349021\n",
      "0.5799758476708811\n"
     ]
    }
   ],
   "source": [
    "a=np.random.randn(5)# as this data is from SND but the mean is not 0. The reason is as we are delaling with sample data of SND, so the mean will be nearly equal to zero\n",
    "print(np.mean(a))\n",
    "print(np.std(a))"
   ]
  },
  {
   "cell_type": "code",
   "execution_count": 43,
   "metadata": {
    "colab": {
     "base_uri": "https://localhost:8080/"
    },
    "id": "o19eDCi8wrYp",
    "outputId": "1fca3d64-d01b-44ea-f9a0-d500bf278266"
   },
   "outputs": [
    {
     "data": {
      "text/plain": [
       "2"
      ]
     },
     "execution_count": 43,
     "metadata": {},
     "output_type": "execute_result"
    }
   ],
   "source": [
    "np.random.randint(1,11) # generates only 1 random number each time"
   ]
  },
  {
   "cell_type": "code",
   "execution_count": 44,
   "metadata": {
    "colab": {
     "base_uri": "https://localhost:8080/"
    },
    "id": "kaYpIxyYxT2a",
    "outputId": "d06dd56e-94d3-467c-fd04-150b4d070a6f"
   },
   "outputs": [
    {
     "data": {
      "text/plain": [
       "array([[6, 8, 5, 8],\n",
       "       [5, 5, 8, 6],\n",
       "       [5, 9, 6, 6]], dtype=int32)"
      ]
     },
     "execution_count": 44,
     "metadata": {},
     "output_type": "execute_result"
    }
   ],
   "source": [
    "a=np.random.randint(5,10,(3,4))# generates a (3,4) matrix having random number between 5 to 10\n",
    "a"
   ]
  },
  {
   "cell_type": "code",
   "execution_count": 45,
   "metadata": {
    "colab": {
     "base_uri": "https://localhost:8080/"
    },
    "id": "GhH1xkknyFUl",
    "outputId": "f7d25f80-c844-49a6-a473-413a3e53cda8"
   },
   "outputs": [
    {
     "name": "stdout",
     "output_type": "stream",
     "text": [
      "[[6 8]\n",
      " [5 8]\n",
      " [5 5]\n",
      " [8 6]\n",
      " [5 9]\n",
      " [6 6]]\n",
      "[[6 8 5 8 5 5]\n",
      " [8 6 5 9 6 6]]\n",
      "[[6 8 5]\n",
      " [8 5 5]\n",
      " [8 6 5]\n",
      " [9 6 6]]\n",
      "[[6 8 5 8]\n",
      " [5 5 8 6]\n",
      " [5 9 6 6]]\n",
      "[[6 8]\n",
      " [5 8]\n",
      " [5 5]\n",
      " [8 6]\n",
      " [5 9]\n",
      " [6 6]]\n"
     ]
    }
   ],
   "source": [
    "print(a.reshape(6,2))\n",
    "print(a.reshape(2,6))\n",
    "print(a.reshape(4,3))\n",
    "print(a.reshape(3,4))\n",
    "print(a.reshape(6,-2)) # these all are the reshape of the above ndarray. While reshaping, make sure that the number of elements should be same, then you can give any combination, it doesnt matter"
   ]
  },
  {
   "cell_type": "code",
   "execution_count": 46,
   "metadata": {
    "colab": {
     "base_uri": "https://localhost:8080/"
    },
    "id": "u6gOPaAZyq-B",
    "outputId": "98a4e812-c46e-4e1f-fbaf-564233c74d24"
   },
   "outputs": [
    {
     "name": "stdout",
     "output_type": "stream",
     "text": [
      "9\n",
      "5\n"
     ]
    }
   ],
   "source": [
    "print(a.max())\n",
    "print(a.min())"
   ]
  },
  {
   "cell_type": "code",
   "execution_count": 47,
   "metadata": {
    "colab": {
     "base_uri": "https://localhost:8080/"
    },
    "id": "Dvc6G-vk1VqQ",
    "outputId": "4dce0f3d-00af-4f6b-a17c-23bb2abc05f1"
   },
   "outputs": [
    {
     "data": {
      "text/plain": [
       "array([[9, 4, 6, 4, 6, 1, 7, 9],\n",
       "       [3, 1, 8, 9, 1, 2, 6, 1],\n",
       "       [5, 7, 9, 4, 1, 2, 4, 5],\n",
       "       [6, 3, 8, 5, 6, 2, 2, 6],\n",
       "       [8, 1, 6, 8, 4, 5, 1, 6],\n",
       "       [3, 1, 1, 8, 8, 8, 3, 2]], dtype=int32)"
      ]
     },
     "execution_count": 47,
     "metadata": {},
     "output_type": "execute_result"
    }
   ],
   "source": [
    "a=np.random.randint(1,10,(6,8))\n",
    "a"
   ]
  },
  {
   "cell_type": "code",
   "execution_count": 48,
   "metadata": {
    "colab": {
     "base_uri": "https://localhost:8080/"
    },
    "id": "ccBZkKOy1fp2",
    "outputId": "679497fb-3b44-47c7-d5da-232061a5f043"
   },
   "outputs": [
    {
     "data": {
      "text/plain": [
       "array([[5, 1],\n",
       "       [8, 3]], dtype=int32)"
      ]
     },
     "execution_count": 48,
     "metadata": {},
     "output_type": "execute_result"
    }
   ],
   "source": [
    "a[4:,5:7]"
   ]
  },
  {
   "cell_type": "code",
   "execution_count": 49,
   "metadata": {
    "colab": {
     "base_uri": "https://localhost:8080/"
    },
    "id": "dWRQ877f344F",
    "outputId": "c471e8e7-d272-40d3-92d9-be9725e2aa52"
   },
   "outputs": [
    {
     "data": {
      "text/plain": [
       "array([[2, 2],\n",
       "       [5, 1],\n",
       "       [8, 3]], dtype=int32)"
      ]
     },
     "execution_count": 49,
     "metadata": {},
     "output_type": "execute_result"
    }
   ],
   "source": [
    "a[3:,[5,6]]"
   ]
  },
  {
   "cell_type": "code",
   "execution_count": 50,
   "metadata": {
    "colab": {
     "base_uri": "https://localhost:8080/"
    },
    "id": "0IxlQxqW5N9e",
    "outputId": "067e9e09-ba5c-42e8-e83b-cd0792946b92"
   },
   "outputs": [
    {
     "data": {
      "text/plain": [
       "array([9, 6, 6, 7, 9, 8, 9, 6, 7, 9, 6, 8, 6, 6, 8, 6, 8, 6, 8, 8, 8],\n",
       "      dtype=int32)"
      ]
     },
     "execution_count": 50,
     "metadata": {},
     "output_type": "execute_result"
    }
   ],
   "source": [
    "a[a>5]"
   ]
  },
  {
   "cell_type": "code",
   "execution_count": 51,
   "metadata": {
    "colab": {
     "base_uri": "https://localhost:8080/"
    },
    "id": "6m5Nrgeg5WB2",
    "outputId": "9fdce310-9b00-4812-af18-3fd7eec3781f"
   },
   "outputs": [
    {
     "data": {
      "text/plain": [
       "array([[ True, False,  True, False,  True, False,  True,  True],\n",
       "       [False, False,  True,  True, False, False,  True, False],\n",
       "       [False,  True,  True, False, False, False, False, False],\n",
       "       [ True, False,  True, False,  True, False, False,  True],\n",
       "       [ True, False,  True,  True, False, False, False,  True],\n",
       "       [False, False, False,  True,  True,  True, False, False]])"
      ]
     },
     "execution_count": 51,
     "metadata": {},
     "output_type": "execute_result"
    }
   ],
   "source": [
    "a>5"
   ]
  },
  {
   "cell_type": "code",
   "execution_count": 52,
   "metadata": {
    "colab": {
     "base_uri": "https://localhost:8080/"
    },
    "id": "_uthjNtv5oRB",
    "outputId": "f3b951ae-395a-475d-b443-63a731142732"
   },
   "outputs": [
    {
     "name": "stdout",
     "output_type": "stream",
     "text": [
      "[[3 3 4]\n",
      " [4 2 4]\n",
      " [2 3 4]]\n",
      "\n",
      "[[4 2 2]\n",
      " [3 3 2]\n",
      " [3 2 2]]\n"
     ]
    }
   ],
   "source": [
    "a=np.random.randint(2,5,(3,3))\n",
    "b=np.random.randint(2,5,(3,3))\n",
    "print(a)\n",
    "print()\n",
    "print(b)"
   ]
  },
  {
   "cell_type": "code",
   "execution_count": 53,
   "metadata": {
    "colab": {
     "base_uri": "https://localhost:8080/"
    },
    "id": "jvwHEJMR5oLK",
    "outputId": "242acb47-3a80-4555-d670-68637355e412"
   },
   "outputs": [
    {
     "name": "stdout",
     "output_type": "stream",
     "text": [
      "[[12  6  8]\n",
      " [12  6  8]\n",
      " [ 6  6  8]]\n"
     ]
    }
   ],
   "source": [
    "print(a*b)#index wise array multiplication vector operation. This is not matrix multiplication"
   ]
  },
  {
   "cell_type": "code",
   "execution_count": 54,
   "metadata": {
    "colab": {
     "base_uri": "https://localhost:8080/"
    },
    "id": "feJhXbsD6pAB",
    "outputId": "98eb6cfc-fd47-4354-eca6-e926e2e2a523"
   },
   "outputs": [
    {
     "data": {
      "text/plain": [
       "array([[33, 23, 20],\n",
       "       [34, 22, 20],\n",
       "       [29, 21, 18]], dtype=int32)"
      ]
     },
     "execution_count": 54,
     "metadata": {},
     "output_type": "execute_result"
    }
   ],
   "source": [
    "#this is the matrix multiplication\n",
    "a@b"
   ]
  },
  {
   "cell_type": "code",
   "execution_count": 55,
   "metadata": {
    "colab": {
     "base_uri": "https://localhost:8080/"
    },
    "id": "2X54occ_-CGk",
    "outputId": "e22a3140-e870-4ead-c2d2-c3435b1a61d5"
   },
   "outputs": [
    {
     "data": {
      "text/plain": [
       "array([[0., 0., 0., 0.],\n",
       "       [0., 0., 0., 0.],\n",
       "       [0., 0., 0., 0.],\n",
       "       [0., 0., 0., 0.],\n",
       "       [0., 0., 0., 0.]])"
      ]
     },
     "execution_count": 55,
     "metadata": {},
     "output_type": "execute_result"
    }
   ],
   "source": [
    "#broadcasting\n",
    "a=np.zeros((5,4))\n",
    "a"
   ]
  },
  {
   "cell_type": "code",
   "execution_count": 56,
   "metadata": {
    "colab": {
     "base_uri": "https://localhost:8080/"
    },
    "id": "ZQRhbmpG-PZj",
    "outputId": "20b61992-b72b-4841-e3a4-d67916704417"
   },
   "outputs": [
    {
     "data": {
      "text/plain": [
       "array([1, 2, 3, 4])"
      ]
     },
     "execution_count": 56,
     "metadata": {},
     "output_type": "execute_result"
    }
   ],
   "source": [
    "b=np.array([1,2,3,4])\n",
    "b"
   ]
  },
  {
   "cell_type": "code",
   "execution_count": 57,
   "metadata": {
    "colab": {
     "base_uri": "https://localhost:8080/"
    },
    "id": "Y0cgXqDy-UK9",
    "outputId": "b0b76d99-be6b-4692-9f45-934b72b176fa"
   },
   "outputs": [
    {
     "data": {
      "text/plain": [
       "array([[1., 2., 3., 4.],\n",
       "       [1., 2., 3., 4.],\n",
       "       [1., 2., 3., 4.],\n",
       "       [1., 2., 3., 4.],\n",
       "       [1., 2., 3., 4.]])"
      ]
     },
     "execution_count": 57,
     "metadata": {},
     "output_type": "execute_result"
    }
   ],
   "source": [
    "a+b # this is called column wise broadcasting in which the column size in the both the arrays must be same."
   ]
  },
  {
   "cell_type": "code",
   "execution_count": 58,
   "metadata": {
    "id": "nwNZTkOaA5m2"
   },
   "outputs": [],
   "source": [
    "c=np.array([1,2,3,4,5])"
   ]
  },
  {
   "cell_type": "code",
   "execution_count": 59,
   "metadata": {
    "colab": {
     "base_uri": "https://localhost:8080/"
    },
    "id": "VrYhyHUuAmL_",
    "outputId": "e4a53f4d-30e2-4c9a-f7d1-af321cbc9f03"
   },
   "outputs": [
    {
     "data": {
      "text/plain": [
       "array([[1., 1., 1., 1.],\n",
       "       [2., 2., 2., 2.],\n",
       "       [3., 3., 3., 3.],\n",
       "       [4., 4., 4., 4.],\n",
       "       [5., 5., 5., 5.]])"
      ]
     },
     "execution_count": 59,
     "metadata": {},
     "output_type": "execute_result"
    }
   ],
   "source": [
    "a+c.reshape(5,1)# this is called row wise broadcasting in which the row size in the both the arrays must be same."
   ]
  },
  {
   "cell_type": "code",
   "execution_count": 60,
   "metadata": {
    "colab": {
     "base_uri": "https://localhost:8080/"
    },
    "id": "DR-pRRHxBLfZ",
    "outputId": "54b14a28-02f3-4854-e7b1-292c2786efdb"
   },
   "outputs": [
    {
     "data": {
      "text/plain": [
       "array([[1],\n",
       "       [2],\n",
       "       [3],\n",
       "       [4],\n",
       "       [5]])"
      ]
     },
     "execution_count": 60,
     "metadata": {},
     "output_type": "execute_result"
    }
   ],
   "source": [
    "c=np.array([[1,2,3,4,5]])# this is also called row wise broadcasting but using tranpose of matrix\n",
    "c.T"
   ]
  },
  {
   "cell_type": "code",
   "execution_count": 61,
   "metadata": {
    "colab": {
     "base_uri": "https://localhost:8080/"
    },
    "id": "Av5PpNIoBkCW",
    "outputId": "8c330105-c8fc-4297-cb30-3c25b020c7ec"
   },
   "outputs": [
    {
     "data": {
      "text/plain": [
       "array([[1., 1., 1., 1.],\n",
       "       [2., 2., 2., 2.],\n",
       "       [3., 3., 3., 3.],\n",
       "       [4., 4., 4., 4.],\n",
       "       [5., 5., 5., 5.]])"
      ]
     },
     "execution_count": 61,
     "metadata": {},
     "output_type": "execute_result"
    }
   ],
   "source": [
    "a+c.T"
   ]
  },
  {
   "cell_type": "code",
   "execution_count": 62,
   "metadata": {
    "colab": {
     "base_uri": "https://localhost:8080/"
    },
    "id": "VHvkfsiMxJcz",
    "outputId": "771d46fe-b930-4ddf-e44e-e84d29f046c8"
   },
   "outputs": [
    {
     "data": {
      "text/plain": [
       "array([[0.20173266, 0.84921142, 0.27370881, 0.89542304],\n",
       "       [0.39649723, 0.27840028, 0.03477392, 0.00785517],\n",
       "       [0.74146089, 0.79544895, 0.85345854, 0.30206839]])"
      ]
     },
     "execution_count": 62,
     "metadata": {},
     "output_type": "execute_result"
    }
   ],
   "source": [
    "a=np.random.rand(3,4)\n",
    "a"
   ]
  },
  {
   "cell_type": "code",
   "execution_count": 63,
   "metadata": {
    "colab": {
     "base_uri": "https://localhost:8080/"
    },
    "id": "nmQRa-Wfxnmb",
    "outputId": "6b2289fe-9873-429d-8a80-80c0fe17f647"
   },
   "outputs": [
    {
     "data": {
      "text/plain": [
       "array([[0.44914659, 0.92152668, 0.52317188, 0.94626795],\n",
       "       [0.62968026, 0.52763651, 0.18647767, 0.08862939],\n",
       "       [0.86108124, 0.89187945, 0.9238282 , 0.54960749]])"
      ]
     },
     "execution_count": 63,
     "metadata": {},
     "output_type": "execute_result"
    }
   ],
   "source": [
    "np.sqrt(a)"
   ]
  },
  {
   "cell_type": "code",
   "execution_count": 64,
   "metadata": {
    "colab": {
     "base_uri": "https://localhost:8080/"
    },
    "id": "lM0xQj4MxstU",
    "outputId": "2601aba7-2644-48b0-e8d4-a8750d7c0096"
   },
   "outputs": [
    {
     "data": {
      "text/plain": [
       "array([[1.22352087, 2.33780258, 1.31483188, 2.44837132],\n",
       "       [1.48660832, 1.32101487, 1.0353856 , 1.0078861 ],\n",
       "       [2.09899969, 2.2154354 , 2.34775261, 1.35265373]])"
      ]
     },
     "execution_count": 64,
     "metadata": {},
     "output_type": "execute_result"
    }
   ],
   "source": [
    "np.exp(a)"
   ]
  },
  {
   "cell_type": "code",
   "execution_count": 65,
   "metadata": {
    "colab": {
     "base_uri": "https://localhost:8080/"
    },
    "id": "AxfQQkhyxwTM",
    "outputId": "577ba5bf-d24c-42a0-bcc3-95d9838db1ca"
   },
   "outputs": [
    {
     "data": {
      "text/plain": [
       "array([[-0.69522379, -0.07098417, -0.56271122, -0.04797174],\n",
       "       [-0.40175984, -0.55533033, -1.45874635, -2.10484444],\n",
       "       [-0.12991175, -0.09938768, -0.06881757, -0.51989472]])"
      ]
     },
     "execution_count": 65,
     "metadata": {},
     "output_type": "execute_result"
    }
   ],
   "source": [
    "np.log10(a)"
   ]
  },
  {
   "cell_type": "code",
   "execution_count": 66,
   "metadata": {
    "colab": {
     "base_uri": "https://localhost:8080/"
    },
    "id": "XcKYirJHx0d-",
    "outputId": "ea66d883-8a7c-48a6-cbec-0ef0e8f19929"
   },
   "outputs": [
    {
     "data": {
      "text/plain": [
       "array([[4, 3, 2, 3, 4],\n",
       "       [4, 2, 3, 2, 4],\n",
       "       [3, 3, 2, 3, 2],\n",
       "       [4, 4, 2, 3, 4],\n",
       "       [3, 2, 2, 2, 2]], dtype=int32)"
      ]
     },
     "execution_count": 66,
     "metadata": {},
     "output_type": "execute_result"
    }
   ],
   "source": [
    "a=np.random.randint(2,5,(5,5))\n",
    "a"
   ]
  },
  {
   "cell_type": "code",
   "execution_count": 67,
   "metadata": {
    "colab": {
     "base_uri": "https://localhost:8080/"
    },
    "id": "15jwza_Vynvf",
    "outputId": "e6b3034c-763a-4a63-e40c-4710a1a1433a"
   },
   "outputs": [
    {
     "data": {
      "text/plain": [
       "array([[0.60205999, 0.47712125, 0.30103   , 0.47712125, 0.60205999],\n",
       "       [0.60205999, 0.30103   , 0.47712125, 0.30103   , 0.60205999],\n",
       "       [0.47712125, 0.47712125, 0.30103   , 0.47712125, 0.30103   ],\n",
       "       [0.60205999, 0.60205999, 0.30103   , 0.47712125, 0.60205999],\n",
       "       [0.47712125, 0.30103   , 0.30103   , 0.30103   , 0.30103   ]])"
      ]
     },
     "execution_count": 67,
     "metadata": {},
     "output_type": "execute_result"
    }
   ],
   "source": [
    "np.log10(a)"
   ]
  },
  {
   "cell_type": "code",
   "execution_count": 68,
   "metadata": {
    "colab": {
     "base_uri": "https://localhost:8080/"
    },
    "id": "dFDv0WSEz-h2",
    "outputId": "9311f85b-c7cf-43f8-f883-a6dd855955f1"
   },
   "outputs": [
    {
     "data": {
      "text/plain": [
       "array([[9, 7, 8],\n",
       "       [4, 5, 7],\n",
       "       [9, 4, 4]], dtype=int32)"
      ]
     },
     "execution_count": 68,
     "metadata": {},
     "output_type": "execute_result"
    }
   ],
   "source": [
    "np.random.seed(1)\n",
    "np.random.randint(4,10,(3,3))# after using seed(), the data is remain fixed and freezed and will not change"
   ]
  },
  {
   "cell_type": "code",
   "execution_count": 69,
   "metadata": {
    "colab": {
     "base_uri": "https://localhost:8080/"
    },
    "id": "N--OcShZ0gBH",
    "outputId": "a97deed8-562d-40bd-c51f-7a2a314ce51e"
   },
   "outputs": [
    {
     "data": {
      "text/plain": [
       "array([[1, 2],\n",
       "       [3, 4]])"
      ]
     },
     "execution_count": 69,
     "metadata": {},
     "output_type": "execute_result"
    }
   ],
   "source": [
    "a=np.array([[1,2],[3,4]])\n",
    "a"
   ]
  },
  {
   "cell_type": "code",
   "execution_count": 70,
   "metadata": {
    "colab": {
     "base_uri": "https://localhost:8080/"
    },
    "id": "XjLMV_H3-06k",
    "outputId": "896211fb-6256-42c4-fbb3-2dded451d1c2"
   },
   "outputs": [
    {
     "data": {
      "text/plain": [
       "np.int64(4)"
      ]
     },
     "execution_count": 70,
     "metadata": {},
     "output_type": "execute_result"
    }
   ],
   "source": [
    "a[1][1]"
   ]
  }
 ],
 "metadata": {
  "colab": {
   "provenance": []
  },
  "kernelspec": {
   "display_name": "Python 3 (ipykernel)",
   "language": "python",
   "name": "python3"
  },
  "language_info": {
   "codemirror_mode": {
    "name": "ipython",
    "version": 3
   },
   "file_extension": ".py",
   "mimetype": "text/x-python",
   "name": "python",
   "nbconvert_exporter": "python",
   "pygments_lexer": "ipython3",
   "version": "3.12.2"
  }
 },
 "nbformat": 4,
 "nbformat_minor": 4
}
